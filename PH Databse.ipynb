{
 "cells": [
  {
   "cell_type": "code",
   "execution_count": 4,
   "metadata": {
    "execution": {
     "iopub.execute_input": "2020-11-08T16:43:02.278474Z",
     "iopub.status.busy": "2020-11-08T16:43:02.277476Z",
     "iopub.status.idle": "2020-11-08T16:43:02.281465Z",
     "shell.execute_reply": "2020-11-08T16:43:02.281465Z",
     "shell.execute_reply.started": "2020-11-08T16:43:02.278474Z"
    }
   },
   "outputs": [],
   "source": [
    "import pandas as pd"
   ]
  },
  {
   "cell_type": "code",
   "execution_count": 35,
   "metadata": {
    "execution": {
     "iopub.execute_input": "2020-11-08T18:38:25.082949Z",
     "iopub.status.busy": "2020-11-08T18:38:25.081955Z",
     "iopub.status.idle": "2020-11-08T18:38:25.861022Z",
     "shell.execute_reply": "2020-11-08T18:38:25.861022Z",
     "shell.execute_reply.started": "2020-11-08T18:38:25.082949Z"
    }
   },
   "outputs": [],
   "source": [
    "dept_frame = pd.read_csv('Data/departments.csv')\n",
    "dept_emp = pd.read_csv('Data/dept_emp.csv')\n",
    "dept_manager = pd.read_csv('Data/dept_manager.csv')\n",
    "employees = pd.read_csv('Data/employees.csv')\n",
    "salaries = pd.read_csv('Data/salaries.csv')\n",
    "titles = pd.read_csv('Data/titles.csv')"
   ]
  },
  {
   "cell_type": "code",
   "execution_count": 41,
   "metadata": {
    "execution": {
     "iopub.execute_input": "2020-11-08T20:39:00.972406Z",
     "iopub.status.busy": "2020-11-08T20:39:00.972406Z",
     "iopub.status.idle": "2020-11-08T20:39:01.100454Z",
     "shell.execute_reply": "2020-11-08T20:39:01.100454Z",
     "shell.execute_reply.started": "2020-11-08T20:39:00.972406Z"
    }
   },
   "outputs": [
    {
     "data": {
      "text/plain": [
       "emp_no       300024\n",
       "dept_no           9\n",
       "from_date      6393\n",
       "to_date        6085\n",
       "dtype: int64"
      ]
     },
     "execution_count": 41,
     "metadata": {},
     "output_type": "execute_result"
    }
   ],
   "source": [
    "dept_emp.nunique()"
   ]
  },
  {
   "cell_type": "code",
   "execution_count": 42,
   "metadata": {
    "execution": {
     "iopub.execute_input": "2020-11-08T20:41:31.214173Z",
     "iopub.status.busy": "2020-11-08T20:41:31.214173Z",
     "iopub.status.idle": "2020-11-08T20:41:31.220183Z",
     "shell.execute_reply": "2020-11-08T20:41:31.220183Z",
     "shell.execute_reply.started": "2020-11-08T20:41:31.214173Z"
    }
   },
   "outputs": [
    {
     "data": {
      "text/plain": [
       "dept_no      9\n",
       "dept_name    9\n",
       "dtype: int64"
      ]
     },
     "execution_count": 42,
     "metadata": {},
     "output_type": "execute_result"
    }
   ],
   "source": [
    "dept_frame.nunique()"
   ]
  },
  {
   "cell_type": "code",
   "execution_count": 43,
   "metadata": {
    "execution": {
     "iopub.execute_input": "2020-11-08T20:42:36.472816Z",
     "iopub.status.busy": "2020-11-08T20:42:36.472816Z",
     "iopub.status.idle": "2020-11-08T20:42:36.554632Z",
     "shell.execute_reply": "2020-11-08T20:42:36.554632Z",
     "shell.execute_reply.started": "2020-11-08T20:42:36.472816Z"
    }
   },
   "outputs": [
    {
     "data": {
      "text/plain": [
       "emp_no       300024\n",
       "salary        50355\n",
       "from_date      5481\n",
       "to_date        5568\n",
       "dtype: int64"
      ]
     },
     "execution_count": 43,
     "metadata": {},
     "output_type": "execute_result"
    }
   ],
   "source": [
    "salaries.nunique()"
   ]
  },
  {
   "cell_type": "code",
   "execution_count": 44,
   "metadata": {
    "execution": {
     "iopub.execute_input": "2020-11-08T20:42:42.568720Z",
     "iopub.status.busy": "2020-11-08T20:42:42.567723Z",
     "iopub.status.idle": "2020-11-08T20:42:42.702362Z",
     "shell.execute_reply": "2020-11-08T20:42:42.702362Z",
     "shell.execute_reply.started": "2020-11-08T20:42:42.568720Z"
    }
   },
   "outputs": [
    {
     "data": {
      "text/plain": [
       "emp_no        300024\n",
       "birth_date      4750\n",
       "first_name      1276\n",
       "last_name       1638\n",
       "gender             2\n",
       "hire_date       5434\n",
       "dtype: int64"
      ]
     },
     "execution_count": 44,
     "metadata": {},
     "output_type": "execute_result"
    }
   ],
   "source": [
    "employees.nunique()"
   ]
  },
  {
   "cell_type": "code",
   "execution_count": 45,
   "metadata": {
    "execution": {
     "iopub.execute_input": "2020-11-08T20:43:30.108014Z",
     "iopub.status.busy": "2020-11-08T20:43:30.108014Z",
     "iopub.status.idle": "2020-11-08T20:43:30.245811Z",
     "shell.execute_reply": "2020-11-08T20:43:30.245811Z",
     "shell.execute_reply.started": "2020-11-08T20:43:30.108014Z"
    }
   },
   "outputs": [
    {
     "data": {
      "text/plain": [
       "emp_no       300024\n",
       "title             7\n",
       "from_date      6393\n",
       "to_date        5888\n",
       "dtype: int64"
      ]
     },
     "execution_count": 45,
     "metadata": {},
     "output_type": "execute_result"
    }
   ],
   "source": [
    "titles.nunique()"
   ]
  },
  {
   "cell_type": "code",
   "execution_count": 46,
   "metadata": {
    "execution": {
     "iopub.execute_input": "2020-11-08T20:47:28.469553Z",
     "iopub.status.busy": "2020-11-08T20:47:28.469553Z",
     "iopub.status.idle": "2020-11-08T20:47:28.477764Z",
     "shell.execute_reply": "2020-11-08T20:47:28.476779Z",
     "shell.execute_reply.started": "2020-11-08T20:47:28.469553Z"
    }
   },
   "outputs": [
    {
     "data": {
      "text/plain": [
       "dept_no       9\n",
       "emp_no       24\n",
       "from_date    16\n",
       "to_date      16\n",
       "dtype: int64"
      ]
     },
     "execution_count": 46,
     "metadata": {},
     "output_type": "execute_result"
    }
   ],
   "source": [
    "dept_manager.nunique()"
   ]
  }
 ],
 "metadata": {
  "kernelspec": {
   "display_name": "PythonData",
   "language": "python",
   "name": "pythondata"
  },
  "language_info": {
   "codemirror_mode": {
    "name": "ipython",
    "version": 3
   },
   "file_extension": ".py",
   "mimetype": "text/x-python",
   "name": "python",
   "nbconvert_exporter": "python",
   "pygments_lexer": "ipython3",
   "version": "3.7.9"
  }
 },
 "nbformat": 4,
 "nbformat_minor": 4
}

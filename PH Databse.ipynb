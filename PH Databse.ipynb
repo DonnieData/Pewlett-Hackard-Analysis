{
 "cells": [
  {
   "cell_type": "code",
   "execution_count": 2,
   "metadata": {
    "execution": {
     "iopub.execute_input": "2020-11-08T21:24:32.238805Z",
     "iopub.status.busy": "2020-11-08T21:24:32.238805Z",
     "iopub.status.idle": "2020-11-08T21:24:32.241824Z",
     "shell.execute_reply": "2020-11-08T21:24:32.241824Z",
     "shell.execute_reply.started": "2020-11-08T21:24:32.238805Z"
    }
   },
   "outputs": [],
   "source": [
    "import pandas as pd"
   ]
  },
  {
   "cell_type": "code",
   "execution_count": 24,
   "metadata": {
    "execution": {
     "iopub.execute_input": "2020-11-08T21:39:37.929726Z",
     "iopub.status.busy": "2020-11-08T21:39:37.928733Z",
     "iopub.status.idle": "2020-11-08T21:39:38.686799Z",
     "shell.execute_reply": "2020-11-08T21:39:38.686110Z",
     "shell.execute_reply.started": "2020-11-08T21:39:37.929726Z"
    }
   },
   "outputs": [],
   "source": [
    "department  = pd.read_csv('Data/departments.csv')\n",
    "dept_employees = pd.read_csv('Data/dept_emp.csv')\n",
    "manager = pd.read_csv('Data/dept_manager.csv')\n",
    "employees = pd.read_csv('Data/employees.csv')\n",
    "salaries = pd.read_csv('Data/salaries.csv')\n",
    "titles = pd.read_csv('Data/titles.csv')"
   ]
  },
  {
   "cell_type": "code",
   "execution_count": 29,
   "metadata": {
    "execution": {
     "iopub.execute_input": "2020-11-08T21:40:52.510998Z",
     "iopub.status.busy": "2020-11-08T21:40:52.510998Z",
     "iopub.status.idle": "2020-11-08T21:40:52.519530Z",
     "shell.execute_reply": "2020-11-08T21:40:52.518975Z",
     "shell.execute_reply.started": "2020-11-08T21:40:52.510998Z"
    }
   },
   "outputs": [
    {
     "data": {
      "text/plain": [
       "dept_no      9\n",
       "dept_name    9\n",
       "dtype: int64"
      ]
     },
     "execution_count": 29,
     "metadata": {},
     "output_type": "execute_result"
    }
   ],
   "source": [
    "department.nunique()"
   ]
  },
  {
   "cell_type": "code",
   "execution_count": 17,
   "metadata": {
    "execution": {
     "iopub.execute_input": "2020-11-08T21:32:12.794121Z",
     "iopub.status.busy": "2020-11-08T21:32:12.794121Z",
     "iopub.status.idle": "2020-11-08T21:32:12.802100Z",
     "shell.execute_reply": "2020-11-08T21:32:12.802100Z",
     "shell.execute_reply.started": "2020-11-08T21:32:12.794121Z"
    }
   },
   "outputs": [
    {
     "name": "stdout",
     "output_type": "stream",
     "text": [
      "<class 'pandas.core.frame.DataFrame'>\n",
      "RangeIndex: 9 entries, 0 to 8\n",
      "Data columns (total 2 columns):\n",
      " #   Column     Non-Null Count  Dtype \n",
      "---  ------     --------------  ----- \n",
      " 0   dept_no    9 non-null      object\n",
      " 1   dept_name  9 non-null      object\n",
      "dtypes: object(2)\n",
      "memory usage: 272.0+ bytes\n"
     ]
    }
   ],
   "source": [
    "department.info()"
   ]
  },
  {
   "cell_type": "code",
   "execution_count": 33,
   "metadata": {
    "execution": {
     "iopub.execute_input": "2020-11-08T21:45:33.941174Z",
     "iopub.status.busy": "2020-11-08T21:45:33.941174Z",
     "iopub.status.idle": "2020-11-08T21:45:34.031025Z",
     "shell.execute_reply": "2020-11-08T21:45:34.031025Z",
     "shell.execute_reply.started": "2020-11-08T21:45:33.941174Z"
    }
   },
   "outputs": [
    {
     "data": {
      "text/plain": [
       "emp_no       300024\n",
       "dept_no           9\n",
       "from_date      6393\n",
       "to_date        6085\n",
       "dtype: int64"
      ]
     },
     "execution_count": 33,
     "metadata": {},
     "output_type": "execute_result"
    }
   ],
   "source": [
    "dept_employees.nunique()"
   ]
  },
  {
   "cell_type": "code",
   "execution_count": 18,
   "metadata": {
    "execution": {
     "iopub.execute_input": "2020-11-08T21:32:24.061547Z",
     "iopub.status.busy": "2020-11-08T21:32:24.061547Z",
     "iopub.status.idle": "2020-11-08T21:32:24.111469Z",
     "shell.execute_reply": "2020-11-08T21:32:24.111469Z",
     "shell.execute_reply.started": "2020-11-08T21:32:24.061547Z"
    }
   },
   "outputs": [
    {
     "name": "stdout",
     "output_type": "stream",
     "text": [
      "<class 'pandas.core.frame.DataFrame'>\n",
      "RangeIndex: 331603 entries, 0 to 331602\n",
      "Data columns (total 4 columns):\n",
      " #   Column     Non-Null Count   Dtype \n",
      "---  ------     --------------   ----- \n",
      " 0   emp_no     331603 non-null  int64 \n",
      " 1   dept_no    331603 non-null  object\n",
      " 2   from_date  331603 non-null  object\n",
      " 3   to_date    331603 non-null  object\n",
      "dtypes: int64(1), object(3)\n",
      "memory usage: 10.1+ MB\n"
     ]
    }
   ],
   "source": [
    "dept_employees.info()"
   ]
  },
  {
   "cell_type": "code",
   "execution_count": 28,
   "metadata": {
    "execution": {
     "iopub.execute_input": "2020-11-08T21:40:38.971747Z",
     "iopub.status.busy": "2020-11-08T21:40:38.971747Z",
     "iopub.status.idle": "2020-11-08T21:40:38.979725Z",
     "shell.execute_reply": "2020-11-08T21:40:38.978729Z",
     "shell.execute_reply.started": "2020-11-08T21:40:38.971747Z"
    }
   },
   "outputs": [
    {
     "data": {
      "text/plain": [
       "dept_no       9\n",
       "emp_no       24\n",
       "from_date    16\n",
       "to_date      16\n",
       "dtype: int64"
      ]
     },
     "execution_count": 28,
     "metadata": {},
     "output_type": "execute_result"
    }
   ],
   "source": [
    "manager.nunique()"
   ]
  },
  {
   "cell_type": "code",
   "execution_count": 25,
   "metadata": {
    "execution": {
     "iopub.execute_input": "2020-11-08T21:39:40.583719Z",
     "iopub.status.busy": "2020-11-08T21:39:40.582722Z",
     "iopub.status.idle": "2020-11-08T21:39:40.590701Z",
     "shell.execute_reply": "2020-11-08T21:39:40.590701Z",
     "shell.execute_reply.started": "2020-11-08T21:39:40.583719Z"
    }
   },
   "outputs": [
    {
     "name": "stdout",
     "output_type": "stream",
     "text": [
      "<class 'pandas.core.frame.DataFrame'>\n",
      "RangeIndex: 24 entries, 0 to 23\n",
      "Data columns (total 4 columns):\n",
      " #   Column     Non-Null Count  Dtype \n",
      "---  ------     --------------  ----- \n",
      " 0   dept_no    24 non-null     object\n",
      " 1   emp_no     24 non-null     int64 \n",
      " 2   from_date  24 non-null     object\n",
      " 3   to_date    24 non-null     object\n",
      "dtypes: int64(1), object(3)\n",
      "memory usage: 896.0+ bytes\n"
     ]
    }
   ],
   "source": [
    "manager.info()"
   ]
  },
  {
   "cell_type": "code",
   "execution_count": 30,
   "metadata": {
    "execution": {
     "iopub.execute_input": "2020-11-08T21:41:30.559645Z",
     "iopub.status.busy": "2020-11-08T21:41:30.558645Z",
     "iopub.status.idle": "2020-11-08T21:41:30.684362Z",
     "shell.execute_reply": "2020-11-08T21:41:30.684362Z",
     "shell.execute_reply.started": "2020-11-08T21:41:30.559645Z"
    }
   },
   "outputs": [
    {
     "data": {
      "text/plain": [
       "emp_no        300024\n",
       "birth_date      4750\n",
       "first_name      1276\n",
       "last_name       1638\n",
       "gender             2\n",
       "hire_date       5434\n",
       "dtype: int64"
      ]
     },
     "execution_count": 30,
     "metadata": {},
     "output_type": "execute_result"
    }
   ],
   "source": [
    "employees.nunique()"
   ]
  },
  {
   "cell_type": "code",
   "execution_count": 21,
   "metadata": {
    "execution": {
     "iopub.execute_input": "2020-11-08T21:32:58.122757Z",
     "iopub.status.busy": "2020-11-08T21:32:58.121761Z",
     "iopub.status.idle": "2020-11-08T21:32:58.190829Z",
     "shell.execute_reply": "2020-11-08T21:32:58.190829Z",
     "shell.execute_reply.started": "2020-11-08T21:32:58.122757Z"
    }
   },
   "outputs": [
    {
     "name": "stdout",
     "output_type": "stream",
     "text": [
      "<class 'pandas.core.frame.DataFrame'>\n",
      "RangeIndex: 300024 entries, 0 to 300023\n",
      "Data columns (total 6 columns):\n",
      " #   Column      Non-Null Count   Dtype \n",
      "---  ------      --------------   ----- \n",
      " 0   emp_no      300024 non-null  int64 \n",
      " 1   birth_date  300024 non-null  object\n",
      " 2   first_name  300024 non-null  object\n",
      " 3   last_name   300024 non-null  object\n",
      " 4   gender      300024 non-null  object\n",
      " 5   hire_date   300024 non-null  object\n",
      "dtypes: int64(1), object(5)\n",
      "memory usage: 13.7+ MB\n"
     ]
    }
   ],
   "source": [
    "employees.info()"
   ]
  },
  {
   "cell_type": "code",
   "execution_count": 31,
   "metadata": {
    "execution": {
     "iopub.execute_input": "2020-11-08T21:43:43.104886Z",
     "iopub.status.busy": "2020-11-08T21:43:43.104886Z",
     "iopub.status.idle": "2020-11-08T21:43:43.221870Z",
     "shell.execute_reply": "2020-11-08T21:43:43.221870Z",
     "shell.execute_reply.started": "2020-11-08T21:43:43.104886Z"
    }
   },
   "outputs": [
    {
     "data": {
      "text/plain": [
       "emp_no       300024\n",
       "title             7\n",
       "from_date      6393\n",
       "to_date        5888\n",
       "dtype: int64"
      ]
     },
     "execution_count": 31,
     "metadata": {},
     "output_type": "execute_result"
    }
   ],
   "source": [
    "titles.nunique()"
   ]
  },
  {
   "cell_type": "code",
   "execution_count": 22,
   "metadata": {
    "execution": {
     "iopub.execute_input": "2020-11-08T21:39:11.156908Z",
     "iopub.status.busy": "2020-11-08T21:39:11.156908Z",
     "iopub.status.idle": "2020-11-08T21:39:11.222834Z",
     "shell.execute_reply": "2020-11-08T21:39:11.221838Z",
     "shell.execute_reply.started": "2020-11-08T21:39:11.156908Z"
    }
   },
   "outputs": [
    {
     "name": "stdout",
     "output_type": "stream",
     "text": [
      "<class 'pandas.core.frame.DataFrame'>\n",
      "RangeIndex: 443308 entries, 0 to 443307\n",
      "Data columns (total 4 columns):\n",
      " #   Column     Non-Null Count   Dtype \n",
      "---  ------     --------------   ----- \n",
      " 0   emp_no     443308 non-null  int64 \n",
      " 1   title      443308 non-null  object\n",
      " 2   from_date  443308 non-null  object\n",
      " 3   to_date    443308 non-null  object\n",
      "dtypes: int64(1), object(3)\n",
      "memory usage: 13.5+ MB\n"
     ]
    }
   ],
   "source": [
    "titles.info()"
   ]
  },
  {
   "cell_type": "code",
   "execution_count": 32,
   "metadata": {
    "execution": {
     "iopub.execute_input": "2020-11-08T21:44:50.537381Z",
     "iopub.status.busy": "2020-11-08T21:44:50.537381Z",
     "iopub.status.idle": "2020-11-08T21:44:50.612730Z",
     "shell.execute_reply": "2020-11-08T21:44:50.612730Z",
     "shell.execute_reply.started": "2020-11-08T21:44:50.537381Z"
    }
   },
   "outputs": [
    {
     "data": {
      "text/plain": [
       "emp_no       300024\n",
       "salary        50355\n",
       "from_date      5481\n",
       "to_date        5568\n",
       "dtype: int64"
      ]
     },
     "execution_count": 32,
     "metadata": {},
     "output_type": "execute_result"
    }
   ],
   "source": [
    "salaries.nunique()"
   ]
  },
  {
   "cell_type": "code",
   "execution_count": 23,
   "metadata": {
    "execution": {
     "iopub.execute_input": "2020-11-08T21:39:12.433546Z",
     "iopub.status.busy": "2020-11-08T21:39:12.433546Z",
     "iopub.status.idle": "2020-11-08T21:39:12.465519Z",
     "shell.execute_reply": "2020-11-08T21:39:12.464488Z",
     "shell.execute_reply.started": "2020-11-08T21:39:12.433546Z"
    }
   },
   "outputs": [
    {
     "name": "stdout",
     "output_type": "stream",
     "text": [
      "<class 'pandas.core.frame.DataFrame'>\n",
      "RangeIndex: 300024 entries, 0 to 300023\n",
      "Data columns (total 4 columns):\n",
      " #   Column     Non-Null Count   Dtype \n",
      "---  ------     --------------   ----- \n",
      " 0   emp_no     300024 non-null  int64 \n",
      " 1   salary     300024 non-null  int64 \n",
      " 2   from_date  300024 non-null  object\n",
      " 3   to_date    300024 non-null  object\n",
      "dtypes: int64(2), object(2)\n",
      "memory usage: 9.2+ MB\n"
     ]
    }
   ],
   "source": [
    "salaries.info()"
   ]
  },
  {
   "cell_type": "code",
   "execution_count": null,
   "metadata": {},
   "outputs": [],
   "source": []
  }
 ],
 "metadata": {
  "kernelspec": {
   "display_name": "PythonData",
   "language": "python",
   "name": "pythondata"
  },
  "language_info": {
   "codemirror_mode": {
    "name": "ipython",
    "version": 3
   },
   "file_extension": ".py",
   "mimetype": "text/x-python",
   "name": "python",
   "nbconvert_exporter": "python",
   "pygments_lexer": "ipython3",
   "version": "3.7.9"
  }
 },
 "nbformat": 4,
 "nbformat_minor": 4
}

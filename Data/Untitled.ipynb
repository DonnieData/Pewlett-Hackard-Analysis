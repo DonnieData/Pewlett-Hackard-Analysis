{
 "cells": [
  {
   "cell_type": "code",
   "execution_count": 1,
   "metadata": {
    "execution": {
     "iopub.execute_input": "2020-11-12T03:43:42.003298Z",
     "iopub.status.busy": "2020-11-12T03:43:42.003298Z",
     "iopub.status.idle": "2020-11-12T03:43:42.007289Z",
     "shell.execute_reply": "2020-11-12T03:43:42.007289Z",
     "shell.execute_reply.started": "2020-11-12T03:43:42.003298Z"
    }
   },
   "outputs": [],
   "source": [
    "import pandas as pd "
   ]
  },
  {
   "cell_type": "code",
   "execution_count": 2,
   "metadata": {
    "execution": {
     "iopub.execute_input": "2020-11-12T03:46:06.250145Z",
     "iopub.status.busy": "2020-11-12T03:46:06.250145Z",
     "iopub.status.idle": "2020-11-12T03:46:06.367928Z",
     "shell.execute_reply": "2020-11-12T03:46:06.367928Z",
     "shell.execute_reply.started": "2020-11-12T03:46:06.250145Z"
    }
   },
   "outputs": [],
   "source": [
    "ret = pd.read_csv('unique_titles.csv')\n",
    "ret = pd.read_csv('unique_titles.csv')\n"
   ]
  },
  {
   "cell_type": "code",
   "execution_count": 3,
   "metadata": {
    "execution": {
     "iopub.execute_input": "2020-11-12T03:46:14.800612Z",
     "iopub.status.busy": "2020-11-12T03:46:14.799615Z",
     "iopub.status.idle": "2020-11-12T03:46:14.868959Z",
     "shell.execute_reply": "2020-11-12T03:46:14.867962Z",
     "shell.execute_reply.started": "2020-11-12T03:46:14.800612Z"
    }
   },
   "outputs": [
    {
     "name": "stdout",
     "output_type": "stream",
     "text": [
      "<class 'pandas.core.frame.DataFrame'>\n",
      "RangeIndex: 90398 entries, 0 to 90397\n",
      "Data columns (total 4 columns):\n",
      " #   Column      Non-Null Count  Dtype \n",
      "---  ------      --------------  ----- \n",
      " 0   emp_no      90398 non-null  int64 \n",
      " 1   first_name  90398 non-null  object\n",
      " 2   last_name   90398 non-null  object\n",
      " 3   title       90398 non-null  object\n",
      "dtypes: int64(1), object(3)\n",
      "memory usage: 2.8+ MB\n"
     ]
    }
   ],
   "source": [
    "ret.info()"
   ]
  },
  {
   "cell_type": "code",
   "execution_count": 4,
   "metadata": {
    "execution": {
     "iopub.execute_input": "2020-11-12T04:02:22.079112Z",
     "iopub.status.busy": "2020-11-12T04:02:22.079112Z",
     "iopub.status.idle": "2020-11-12T04:02:22.092079Z",
     "shell.execute_reply": "2020-11-12T04:02:22.092079Z",
     "shell.execute_reply.started": "2020-11-12T04:02:22.079112Z"
    }
   },
   "outputs": [
    {
     "data": {
      "text/html": [
       "<div>\n",
       "<style scoped>\n",
       "    .dataframe tbody tr th:only-of-type {\n",
       "        vertical-align: middle;\n",
       "    }\n",
       "\n",
       "    .dataframe tbody tr th {\n",
       "        vertical-align: top;\n",
       "    }\n",
       "\n",
       "    .dataframe thead th {\n",
       "        text-align: right;\n",
       "    }\n",
       "</style>\n",
       "<table border=\"1\" class=\"dataframe\">\n",
       "  <thead>\n",
       "    <tr style=\"text-align: right;\">\n",
       "      <th></th>\n",
       "      <th>emp_no</th>\n",
       "      <th>first_name</th>\n",
       "      <th>last_name</th>\n",
       "      <th>title</th>\n",
       "    </tr>\n",
       "  </thead>\n",
       "  <tbody>\n",
       "    <tr>\n",
       "      <th>0</th>\n",
       "      <td>10001</td>\n",
       "      <td>Georgi</td>\n",
       "      <td>Facello</td>\n",
       "      <td>Senior Engineer</td>\n",
       "    </tr>\n",
       "    <tr>\n",
       "      <th>1</th>\n",
       "      <td>10004</td>\n",
       "      <td>Chirstian</td>\n",
       "      <td>Koblick</td>\n",
       "      <td>Senior Engineer</td>\n",
       "    </tr>\n",
       "    <tr>\n",
       "      <th>2</th>\n",
       "      <td>10005</td>\n",
       "      <td>Kyoichi</td>\n",
       "      <td>Maliniak</td>\n",
       "      <td>Senior Staff</td>\n",
       "    </tr>\n",
       "    <tr>\n",
       "      <th>3</th>\n",
       "      <td>10006</td>\n",
       "      <td>Anneke</td>\n",
       "      <td>Preusig</td>\n",
       "      <td>Senior Engineer</td>\n",
       "    </tr>\n",
       "    <tr>\n",
       "      <th>4</th>\n",
       "      <td>10009</td>\n",
       "      <td>Sumant</td>\n",
       "      <td>Peac</td>\n",
       "      <td>Senior Engineer</td>\n",
       "    </tr>\n",
       "  </tbody>\n",
       "</table>\n",
       "</div>"
      ],
      "text/plain": [
       "   emp_no first_name last_name            title\n",
       "0   10001     Georgi   Facello  Senior Engineer\n",
       "1   10004  Chirstian   Koblick  Senior Engineer\n",
       "2   10005    Kyoichi  Maliniak     Senior Staff\n",
       "3   10006     Anneke   Preusig  Senior Engineer\n",
       "4   10009     Sumant      Peac  Senior Engineer"
      ]
     },
     "execution_count": 4,
     "metadata": {},
     "output_type": "execute_result"
    }
   ],
   "source": [
    "ret.head()"
   ]
  },
  {
   "cell_type": "code",
   "execution_count": 13,
   "metadata": {
    "execution": {
     "iopub.execute_input": "2020-11-12T04:26:00.191809Z",
     "iopub.status.busy": "2020-11-12T04:26:00.190812Z",
     "iopub.status.idle": "2020-11-12T04:26:00.219809Z",
     "shell.execute_reply": "2020-11-12T04:26:00.219809Z",
     "shell.execute_reply.started": "2020-11-12T04:26:00.191809Z"
    }
   },
   "outputs": [],
   "source": [
    "ret_1 = ret.groupby('title').count().reset_index()[['title','emp_no']]"
   ]
  },
  {
   "cell_type": "code",
   "execution_count": 15,
   "metadata": {
    "execution": {
     "iopub.execute_input": "2020-11-12T04:27:11.291275Z",
     "iopub.status.busy": "2020-11-12T04:27:11.291275Z",
     "iopub.status.idle": "2020-11-12T04:27:11.297256Z",
     "shell.execute_reply": "2020-11-12T04:27:11.297256Z",
     "shell.execute_reply.started": "2020-11-12T04:27:11.291275Z"
    }
   },
   "outputs": [],
   "source": [
    "ret_1['percent'] = ret_1['emp_no'].map(lambda x: (x/300024 * 100))"
   ]
  },
  {
   "cell_type": "code",
   "execution_count": 16,
   "metadata": {
    "execution": {
     "iopub.execute_input": "2020-11-12T04:27:15.964589Z",
     "iopub.status.busy": "2020-11-12T04:27:15.964589Z",
     "iopub.status.idle": "2020-11-12T04:27:16.000295Z",
     "shell.execute_reply": "2020-11-12T04:27:16.000295Z",
     "shell.execute_reply.started": "2020-11-12T04:27:15.964589Z"
    }
   },
   "outputs": [
    {
     "data": {
      "text/html": [
       "<div>\n",
       "<style scoped>\n",
       "    .dataframe tbody tr th:only-of-type {\n",
       "        vertical-align: middle;\n",
       "    }\n",
       "\n",
       "    .dataframe tbody tr th {\n",
       "        vertical-align: top;\n",
       "    }\n",
       "\n",
       "    .dataframe thead th {\n",
       "        text-align: right;\n",
       "    }\n",
       "</style>\n",
       "<table border=\"1\" class=\"dataframe\">\n",
       "  <thead>\n",
       "    <tr style=\"text-align: right;\">\n",
       "      <th></th>\n",
       "      <th>title</th>\n",
       "      <th>emp_no</th>\n",
       "      <th>percent</th>\n",
       "    </tr>\n",
       "  </thead>\n",
       "  <tbody>\n",
       "    <tr>\n",
       "      <th>0</th>\n",
       "      <td>Assistant Engineer</td>\n",
       "      <td>1761</td>\n",
       "      <td>0.586953</td>\n",
       "    </tr>\n",
       "    <tr>\n",
       "      <th>1</th>\n",
       "      <td>Engineer</td>\n",
       "      <td>14222</td>\n",
       "      <td>4.740287</td>\n",
       "    </tr>\n",
       "    <tr>\n",
       "      <th>2</th>\n",
       "      <td>Manager</td>\n",
       "      <td>2</td>\n",
       "      <td>0.000667</td>\n",
       "    </tr>\n",
       "    <tr>\n",
       "      <th>3</th>\n",
       "      <td>Senior Engineer</td>\n",
       "      <td>29414</td>\n",
       "      <td>9.803882</td>\n",
       "    </tr>\n",
       "    <tr>\n",
       "      <th>4</th>\n",
       "      <td>Senior Staff</td>\n",
       "      <td>28255</td>\n",
       "      <td>9.417580</td>\n",
       "    </tr>\n",
       "    <tr>\n",
       "      <th>5</th>\n",
       "      <td>Staff</td>\n",
       "      <td>12242</td>\n",
       "      <td>4.080340</td>\n",
       "    </tr>\n",
       "    <tr>\n",
       "      <th>6</th>\n",
       "      <td>Technique Leader</td>\n",
       "      <td>4502</td>\n",
       "      <td>1.500547</td>\n",
       "    </tr>\n",
       "  </tbody>\n",
       "</table>\n",
       "</div>"
      ],
      "text/plain": [
       "                title  emp_no   percent\n",
       "0  Assistant Engineer    1761  0.586953\n",
       "1            Engineer   14222  4.740287\n",
       "2             Manager       2  0.000667\n",
       "3     Senior Engineer   29414  9.803882\n",
       "4        Senior Staff   28255  9.417580\n",
       "5               Staff   12242  4.080340\n",
       "6    Technique Leader    4502  1.500547"
      ]
     },
     "execution_count": 16,
     "metadata": {},
     "output_type": "execute_result"
    }
   ],
   "source": [
    "ret_1"
   ]
  },
  {
   "cell_type": "code",
   "execution_count": 17,
   "metadata": {
    "execution": {
     "iopub.execute_input": "2020-11-12T04:29:03.560299Z",
     "iopub.status.busy": "2020-11-12T04:29:03.560299Z",
     "iopub.status.idle": "2020-11-12T04:29:03.565322Z",
     "shell.execute_reply": "2020-11-12T04:29:03.565322Z",
     "shell.execute_reply.started": "2020-11-12T04:29:03.560299Z"
    }
   },
   "outputs": [
    {
     "data": {
      "text/plain": [
       "30.130256246166972"
      ]
     },
     "execution_count": 17,
     "metadata": {},
     "output_type": "execute_result"
    }
   ],
   "source": [
    "ret_1.percent.sum()"
   ]
  },
  {
   "cell_type": "code",
   "execution_count": 19,
   "metadata": {
    "execution": {
     "iopub.execute_input": "2020-11-12T04:31:21.805245Z",
     "iopub.status.busy": "2020-11-12T04:31:21.805245Z",
     "iopub.status.idle": "2020-11-12T04:31:21.815186Z",
     "shell.execute_reply": "2020-11-12T04:31:21.815186Z",
     "shell.execute_reply.started": "2020-11-12T04:31:21.805245Z"
    }
   },
   "outputs": [
    {
     "data": {
      "text/html": [
       "<div>\n",
       "<style scoped>\n",
       "    .dataframe tbody tr th:only-of-type {\n",
       "        vertical-align: middle;\n",
       "    }\n",
       "\n",
       "    .dataframe tbody tr th {\n",
       "        vertical-align: top;\n",
       "    }\n",
       "\n",
       "    .dataframe thead th {\n",
       "        text-align: right;\n",
       "    }\n",
       "</style>\n",
       "<table border=\"1\" class=\"dataframe\">\n",
       "  <thead>\n",
       "    <tr style=\"text-align: right;\">\n",
       "      <th></th>\n",
       "      <th>title</th>\n",
       "      <th>emp_no</th>\n",
       "      <th>percent</th>\n",
       "    </tr>\n",
       "  </thead>\n",
       "  <tbody>\n",
       "    <tr>\n",
       "      <th>3</th>\n",
       "      <td>Senior Engineer</td>\n",
       "      <td>29414</td>\n",
       "      <td>9.803882</td>\n",
       "    </tr>\n",
       "    <tr>\n",
       "      <th>4</th>\n",
       "      <td>Senior Staff</td>\n",
       "      <td>28255</td>\n",
       "      <td>9.417580</td>\n",
       "    </tr>\n",
       "    <tr>\n",
       "      <th>1</th>\n",
       "      <td>Engineer</td>\n",
       "      <td>14222</td>\n",
       "      <td>4.740287</td>\n",
       "    </tr>\n",
       "    <tr>\n",
       "      <th>5</th>\n",
       "      <td>Staff</td>\n",
       "      <td>12242</td>\n",
       "      <td>4.080340</td>\n",
       "    </tr>\n",
       "    <tr>\n",
       "      <th>6</th>\n",
       "      <td>Technique Leader</td>\n",
       "      <td>4502</td>\n",
       "      <td>1.500547</td>\n",
       "    </tr>\n",
       "    <tr>\n",
       "      <th>0</th>\n",
       "      <td>Assistant Engineer</td>\n",
       "      <td>1761</td>\n",
       "      <td>0.586953</td>\n",
       "    </tr>\n",
       "    <tr>\n",
       "      <th>2</th>\n",
       "      <td>Manager</td>\n",
       "      <td>2</td>\n",
       "      <td>0.000667</td>\n",
       "    </tr>\n",
       "  </tbody>\n",
       "</table>\n",
       "</div>"
      ],
      "text/plain": [
       "                title  emp_no   percent\n",
       "3     Senior Engineer   29414  9.803882\n",
       "4        Senior Staff   28255  9.417580\n",
       "1            Engineer   14222  4.740287\n",
       "5               Staff   12242  4.080340\n",
       "6    Technique Leader    4502  1.500547\n",
       "0  Assistant Engineer    1761  0.586953\n",
       "2             Manager       2  0.000667"
      ]
     },
     "execution_count": 19,
     "metadata": {},
     "output_type": "execute_result"
    }
   ],
   "source": [
    "ret_1.sort_values('percent', ascending=False)"
   ]
  },
  {
   "cell_type": "code",
   "execution_count": 20,
   "metadata": {
    "execution": {
     "iopub.execute_input": "2020-11-12T04:32:35.013596Z",
     "iopub.status.busy": "2020-11-12T04:32:35.013596Z",
     "iopub.status.idle": "2020-11-12T04:32:35.018584Z",
     "shell.execute_reply": "2020-11-12T04:32:35.018584Z",
     "shell.execute_reply.started": "2020-11-12T04:32:35.013596Z"
    }
   },
   "outputs": [
    {
     "data": {
      "text/plain": [
       "7"
      ]
     },
     "execution_count": 20,
     "metadata": {},
     "output_type": "execute_result"
    }
   ],
   "source": [
    "len(ret_1)"
   ]
  },
  {
   "cell_type": "code",
   "execution_count": 21,
   "metadata": {
    "execution": {
     "iopub.execute_input": "2020-11-12T04:43:26.704315Z",
     "iopub.status.busy": "2020-11-12T04:43:26.703318Z",
     "iopub.status.idle": "2020-11-12T04:43:26.709302Z",
     "shell.execute_reply": "2020-11-12T04:43:26.709302Z",
     "shell.execute_reply.started": "2020-11-12T04:43:26.704315Z"
    }
   },
   "outputs": [
    {
     "data": {
      "text/plain": [
       "90398"
      ]
     },
     "execution_count": 21,
     "metadata": {},
     "output_type": "execute_result"
    }
   ],
   "source": [
    "ret_1.emp_no.sum()"
   ]
  },
  {
   "cell_type": "code",
   "execution_count": null,
   "metadata": {},
   "outputs": [],
   "source": []
  }
 ],
 "metadata": {
  "kernelspec": {
   "display_name": "PythonData",
   "language": "python",
   "name": "pythondata"
  },
  "language_info": {
   "codemirror_mode": {
    "name": "ipython",
    "version": 3
   },
   "file_extension": ".py",
   "mimetype": "text/x-python",
   "name": "python",
   "nbconvert_exporter": "python",
   "pygments_lexer": "ipython3",
   "version": "3.7.9"
  }
 },
 "nbformat": 4,
 "nbformat_minor": 4
}
